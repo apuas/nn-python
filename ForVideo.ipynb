{
  "nbformat": 4,
  "nbformat_minor": 0,
  "metadata": {
    "colab": {
      "provenance": [],
      "include_colab_link": true
    },
    "kernelspec": {
      "name": "python3",
      "display_name": "Python 3"
    },
    "accelerator": "GPU"
  },
  "cells": [
    {
      "cell_type": "markdown",
      "metadata": {
        "id": "view-in-github",
        "colab_type": "text"
      },
      "source": [
        "<a href=\"https://colab.research.google.com/github/apuas/nn-python/blob/main/ForVideo.ipynb\" target=\"_parent\"><img src=\"https://colab.research.google.com/assets/colab-badge.svg\" alt=\"Open In Colab\"/></a>"
      ]
    },
    {
      "cell_type": "code",
      "metadata": {
        "id": "dpMS_uOolALI",
        "colab": {
          "base_uri": "https://localhost:8080/"
        },
        "outputId": "eaa3970c-4d91-4d2e-ffe1-b211319dc8dc"
      },
      "source": [
        "from google.colab import drive\n",
        "drive.mount('/content/drive/')"
      ],
      "execution_count": null,
      "outputs": [
        {
          "output_type": "stream",
          "name": "stdout",
          "text": [
            "Mounted at /content/drive/\n"
          ]
        }
      ]
    },
    {
      "cell_type": "code",
      "metadata": {
        "id": "i8uabf4YGN8f"
      },
      "source": [
        "!ls \"/content/drive/My Drive/\""
      ],
      "execution_count": null,
      "outputs": []
    },
    {
      "cell_type": "code",
      "metadata": {
        "id": "yMRj9bnplAvj"
      },
      "source": [
        "import matplotlib\n",
        "matplotlib.use(\"Agg\")\n",
        "from sklearn.model_selection import train_test_split\n",
        "from sklearn.metrics import classification_report\n",
        "from keras.models import Sequential\n",
        "from keras.layers.core import Dense\n",
        "from keras.optimizers import SGD\n",
        "from imutils import paths\n",
        "import matplotlib.pyplot as plt\n",
        "import numpy as np\n",
        "import random\n",
        "import pickle\n",
        "import cv2\n",
        "import os\n",
        "\n",
        "from keras.callbacks import EarlyStopping\n",
        "from keras.callbacks import ModelCheckpoint\n",
        "\n"
      ],
      "execution_count": null,
      "outputs": []
    },
    {
      "cell_type": "code",
      "metadata": {
        "id": "cdFYMKismmfe"
      },
      "source": [
        "ImagePaths = list(paths.list_images(\"/content/drive/My Drive/GoogleColab/dogs/\"))\n",
        "random.seed(42)\n",
        "ImagePaths = ImagePaths[:1800] + list(paths.list_images(\"/content/drive/My Drive/GoogleColab/cats/\"))\n",
        "print(len(ImagePaths))\n",
        "random.shuffle(ImagePaths)\n",
        "\n",
        "data = []\n",
        "labels = []\n",
        "\n",
        "for imagepath in ImagePaths:\n",
        "  image = cv2.imread(imagepath)\n",
        "  image = cv2.resize(image, (32, 32)).flatten()\n",
        "  data.append(image)\n",
        "  label = imagepath.split(os.path.sep)[-2]\n",
        "  if label == \"cats\":\n",
        "    label = [1,0]\n",
        "  else:\n",
        "    label = [0,1]\n",
        "  labels.append(label)\n",
        "\n",
        "print(labels)  \n",
        "\n",
        "data = np.array(data, dtype=\"float\") / 255.0\n",
        "labels = np.array(labels)\n",
        "\n",
        "with open(\"/content/drive/My Drive/GoogleColab/Lesson_3/data.pickle\", 'wb') as f:\n",
        "  pickle.dump(data, f)\n",
        "print(\"Data seved\")\n",
        "\n",
        "with open(\"/content/drive/My Drive/GoogleColab/Lesson_3/labels.pickle\", 'wb') as f:\n",
        "  pickle.dump(labels, f)\n",
        "print(\"Labels seved\")"
      ],
      "execution_count": null,
      "outputs": []
    },
    {
      "cell_type": "code",
      "metadata": {
        "id": "c6byBc86IGT5",
        "colab": {
          "base_uri": "https://localhost:8080/",
          "height": 68
        },
        "outputId": "e1b1d151-732c-437c-c52e-df5a3f159336"
      },
      "source": [
        "with open(\"/content/drive/My Drive/GoogleColab/Lesson_3/data.pickle\", 'rb') as f:\n",
        "  data = pickle.load(f)\n",
        "print(\"Data loaded\")\n",
        "\n",
        "with open(\"/content/drive/My Drive/GoogleColab/Lesson_3/labels.pickle\", 'rb') as f:\n",
        "  labels = pickle.load(f)\n",
        "print(\"Labels loaded\")\n",
        "\n",
        "(trainX, testX, trainY, testY) = train_test_split(data, labels,\n",
        "                                                  test_size=0.15,\n",
        "                                                  random_state=42)\n",
        "\n",
        "print(\"Dataset prepared\")"
      ],
      "execution_count": null,
      "outputs": [
        {
          "output_type": "stream",
          "text": [
            "Data loaded\n",
            "Labels loaded\n",
            "Dataset prepared\n"
          ],
          "name": "stdout"
        }
      ]
    },
    {
      "cell_type": "code",
      "metadata": {
        "id": "ypSErAwomml2",
        "colab": {
          "base_uri": "https://localhost:8080/",
          "height": 34
        },
        "outputId": "3c5bc46f-5043-422e-f86f-0217732dfbd1"
      },
      "source": [
        "model = Sequential() \n",
        "model.add(Dense(1024,input_shape=(3072,), activation='sigmoid'))\n",
        "model.add(Dense(512, activation='sigmoid'))\n",
        "model.add(Dense(2, activation='softmax'))\n",
        "\n",
        "INIT_LR = 0.01\n",
        "opt = SGD(lr=INIT_LR)\n",
        "\n",
        "model.compile(loss=\"binary_crossentropy\",optimizer=opt,\n",
        "              metrics=[\"accuracy\"])  #categorial_crosentropy\n",
        "\n",
        "print (\"Model compiled\")"
      ],
      "execution_count": null,
      "outputs": [
        {
          "output_type": "stream",
          "text": [
            "Model compiled\n"
          ],
          "name": "stdout"
        }
      ]
    },
    {
      "cell_type": "code",
      "metadata": {
        "id": "1tbd6x7-wKkE"
      },
      "source": [
        "EPOCHS = 70\n",
        "\n",
        "# checkpointer = ModelCheckpoint(filepath='/content/drive/My Drive/GoogleColab/Lesson_3/EasyNet_{epoch:2d}_{val_accuracy:.3f}.hdf5', verbose=1, period=10)\n",
        " checkpointer = ModelCheckpoint(filepath='/content/drive/My Drive/GoogleColab/Lesson_3/point.h5', verbose=1, save_best_only=True)\n",
        "# checkpointer = ModelCheckpoint(filepath='/content/drive/My Drive/GoogleColab/Lesson_3/point.h5', verbose=1)\n",
        "\n",
        "\n",
        "# model.fit(x_train, y_train, batch_size=128, epochs=20, verbose=0, validation_data=(X_test, Y_test), callbacks=[checkpointer])\n",
        "\n",
        "\n",
        "H = model.fit(trainX, trainY, validation_data=(testX,testY),\n",
        "              epochs=EPOCHS, batch_size=128,\n",
        "              callbacks=[checkpointer])\n",
        "\n",
        "print(\"Model trained\")"
      ],
      "execution_count": null,
      "outputs": []
    },
    {
      "cell_type": "code",
      "metadata": {
        "id": "GKAhYjvgw2TC",
        "colab": {
          "base_uri": "https://localhost:8080/",
          "height": 306
        },
        "outputId": "a44ec0c5-ca0e-415a-c4a0-23216bb58d0f"
      },
      "source": [
        "predictions = model.predict (testX, batch_size = 32)\n",
        "print(predictions)\n",
        "\n",
        "print(classification_report(testY.argmax(axis=1),\n",
        "                            predictions.argmax(axis=1), target_names=(\"cats\",\"dogs\")))\n",
        "\n",
        "N = np.arange(0, EPOCHS)\n",
        "plt.style.use(\"ggplot\")\n",
        "plt.figure()\n",
        "plt.plot(N, H.history[\"loss\"], label=\"train_loss\")\n",
        "plt.plot(N, H.history[\"val_loss\"], label=\"vall_loss\")\n",
        "plt.plot(N, H.history[\"accuracy\"], label=\"train_acc\")\n",
        "plt.plot(N, H.history[\"val_accuracy\"], label=\"val_acc\")\n",
        "plt.title(\"Results\")\n",
        "plt.xlabel(\"Epoch #\")\n",
        "plt.ylabel(\"Loss/Accuracy/\")\n",
        "plt.legend()\n",
        "plt.savefig(\"/content/drive/My Drive/GoogleColab/Lesson_3/Loss.png\")\n",
        "model.save(\"/content/drive/My Drive/GoogleColab/Lesson_3/EasyNet.model\")\n",
        "\n",
        "print(\"End\")\n",
        "\n"
      ],
      "execution_count": null,
      "outputs": [
        {
          "output_type": "stream",
          "text": [
            "[[0.58963454 0.41036543]\n",
            " [0.4803841  0.5196159 ]\n",
            " [0.59001416 0.4099858 ]\n",
            " ...\n",
            " [0.52583    0.47416997]\n",
            " [0.4504728  0.5495272 ]\n",
            " [0.46542823 0.53457177]]\n",
            "              precision    recall  f1-score   support\n",
            "\n",
            "        cats       0.54      0.52      0.53       263\n",
            "        dogs       0.55      0.56      0.56       271\n",
            "\n",
            "    accuracy                           0.54       534\n",
            "   macro avg       0.54      0.54      0.54       534\n",
            "weighted avg       0.54      0.54      0.54       534\n",
            "\n",
            "End\n"
          ],
          "name": "stdout"
        }
      ]
    },
    {
      "cell_type": "code",
      "metadata": {
        "id": "8ooePG8M3rWa"
      },
      "source": [],
      "execution_count": null,
      "outputs": []
    }
  ]
}